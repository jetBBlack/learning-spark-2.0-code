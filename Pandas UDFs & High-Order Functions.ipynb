{
 "cells": [
  {
   "cell_type": "code",
   "execution_count": 1,
   "id": "666b4d5a",
   "metadata": {},
   "outputs": [],
   "source": [
    "import findspark\n",
    "findspark.init()"
   ]
  },
  {
   "cell_type": "code",
   "execution_count": 5,
   "id": "7a24045c",
   "metadata": {},
   "outputs": [],
   "source": [
    "import pandas as pd\n",
    "from pyspark.sql import SparkSession\n",
    "from pyspark.sql.functions import col, pandas_udf,PandasUDFType \n",
    "from pyspark.sql.types import LongType, IntegerType, ArrayType\n",
    "from pyspark.sql.functions import *"
   ]
  },
  {
   "cell_type": "code",
   "execution_count": 6,
   "id": "cc91cea8",
   "metadata": {},
   "outputs": [],
   "source": [
    "spark = (SparkSession.builder.appName('UDFwithPandas').getOrCreate())"
   ]
  },
  {
   "cell_type": "code",
   "execution_count": 6,
   "id": "b058c67d",
   "metadata": {},
   "outputs": [],
   "source": [
    "def cubed(a: pd.Series)->pd.Series:\n",
    "    return a*a*a"
   ]
  },
  {
   "cell_type": "code",
   "execution_count": 7,
   "id": "c85f6ddb",
   "metadata": {},
   "outputs": [],
   "source": [
    "#Create the pandas UDF for the cubed function\n",
    "cubed_udf = pandas_udf(cubed, returnType=LongType())"
   ]
  },
  {
   "cell_type": "code",
   "execution_count": 68,
   "id": "da4b293f",
   "metadata": {},
   "outputs": [],
   "source": [
    "x = pd.Series([1,2,3,4])"
   ]
  },
  {
   "cell_type": "code",
   "execution_count": 9,
   "id": "9027bb6b",
   "metadata": {},
   "outputs": [
    {
     "name": "stdout",
     "output_type": "stream",
     "text": [
      "0     1\n",
      "1     8\n",
      "2    27\n",
      "3    64\n",
      "dtype: int64\n"
     ]
    }
   ],
   "source": [
    "print(cubed(x))"
   ]
  },
  {
   "cell_type": "code",
   "execution_count": 11,
   "id": "149147ea",
   "metadata": {},
   "outputs": [],
   "source": [
    "df = spark.range(1,9)"
   ]
  },
  {
   "cell_type": "code",
   "execution_count": 15,
   "id": "70cbccc4",
   "metadata": {},
   "outputs": [],
   "source": [
    "df.createOrReplaceTempView('udf_test')"
   ]
  },
  {
   "cell_type": "code",
   "execution_count": 13,
   "id": "dc83b2cb",
   "metadata": {},
   "outputs": [
    {
     "name": "stdout",
     "output_type": "stream",
     "text": [
      "+---+---------+\n",
      "| id|cubed(id)|\n",
      "+---+---------+\n",
      "|  1|        1|\n",
      "|  2|        8|\n",
      "|  3|       27|\n",
      "|  4|       64|\n",
      "|  5|      125|\n",
      "|  6|      216|\n",
      "|  7|      343|\n",
      "|  8|      512|\n",
      "+---+---------+\n",
      "\n"
     ]
    }
   ],
   "source": [
    "(df.select(\"id\", cubed_udf(col('id'))).show())"
   ]
  },
  {
   "cell_type": "code",
   "execution_count": 24,
   "id": "49a7deea",
   "metadata": {},
   "outputs": [],
   "source": [
    "#convert dataframe column to list \n",
    "id_list = df.select('id').collect()"
   ]
  },
  {
   "cell_type": "code",
   "execution_count": 25,
   "id": "e7a1ef35",
   "metadata": {},
   "outputs": [
    {
     "name": "stdout",
     "output_type": "stream",
     "text": [
      "+---------------------------------------+\n",
      "|array_distinct(array(1, 2, 3, 4, 5, 3))|\n",
      "+---------------------------------------+\n",
      "|                        [1, 2, 3, 4, 5]|\n",
      "+---------------------------------------+\n",
      "\n"
     ]
    }
   ],
   "source": [
    "spark.sql(\"\"\"SELECT array_distinct(array(1,2,3,4,5,3))\"\"\").show()"
   ]
  },
  {
   "cell_type": "markdown",
   "id": "d7252ce5",
   "metadata": {},
   "source": [
    "### High-Order Function"
   ]
  },
  {
   "cell_type": "code",
   "execution_count": 5,
   "id": "6cd60f35",
   "metadata": {},
   "outputs": [],
   "source": [
    "from pyspark.sql.types import *"
   ]
  },
  {
   "cell_type": "code",
   "execution_count": 6,
   "id": "50fd4191",
   "metadata": {},
   "outputs": [],
   "source": [
    "schema = StructType([StructField(\"celsius\", ArrayType(IntegerType()))])"
   ]
  },
  {
   "cell_type": "code",
   "execution_count": 7,
   "id": "377bf483",
   "metadata": {},
   "outputs": [],
   "source": [
    "t_list = [[35, 36, 32, 30, 40, 42, 36]], [[31, 32, 34, 55, 56, 32]]\n",
    "t_c = spark.createDataFrame(t_list, schema=schema)\n",
    "t_c.createOrReplaceTempView('tC')"
   ]
  },
  {
   "cell_type": "code",
   "execution_count": 8,
   "id": "47059270",
   "metadata": {},
   "outputs": [
    {
     "name": "stdout",
     "output_type": "stream",
     "text": [
      "+----------------------------+\n",
      "|celsius                     |\n",
      "+----------------------------+\n",
      "|[35, 36, 32, 30, 40, 42, 36]|\n",
      "|[31, 32, 34, 55, 56, 32]    |\n",
      "+----------------------------+\n",
      "\n"
     ]
    }
   ],
   "source": [
    "t_c.show(truncate=False)"
   ]
  },
  {
   "cell_type": "code",
   "execution_count": 10,
   "id": "f29ecf57",
   "metadata": {},
   "outputs": [],
   "source": [
    "#transform\n",
    "fahrenheit_t=spark.sql(\"\"\"SELECT celsius, transform(celsius, t->((t*9) div 5) +32) as fahrenheit\n",
    "    FROM tC \"\"\")"
   ]
  },
  {
   "cell_type": "code",
   "execution_count": 11,
   "id": "e50a53e5",
   "metadata": {},
   "outputs": [],
   "source": [
    "fahrenheit_t.write.saveAsTable('fahrenheit_transform_tbl')"
   ]
  },
  {
   "cell_type": "code",
   "execution_count": 19,
   "id": "6f9de01a",
   "metadata": {},
   "outputs": [
    {
     "ename": "NameError",
     "evalue": "name 'transform' is not defined",
     "output_type": "error",
     "traceback": [
      "\u001b[1;31m---------------------------------------------------------------------------\u001b[0m",
      "\u001b[1;31mNameError\u001b[0m                                 Traceback (most recent call last)",
      "\u001b[1;32m<ipython-input-19-526eb6113231>\u001b[0m in \u001b[0;36m<module>\u001b[1;34m\u001b[0m\n\u001b[1;32m----> 1\u001b[1;33m \u001b[0mt_c\u001b[0m\u001b[1;33m.\u001b[0m\u001b[0mselect\u001b[0m\u001b[1;33m(\u001b[0m\u001b[1;34m'celsius'\u001b[0m\u001b[1;33m,\u001b[0m\u001b[0mtransform\u001b[0m\u001b[1;33m(\u001b[0m\u001b[0mcol\u001b[0m\u001b[1;33m(\u001b[0m\u001b[1;34m'id'\u001b[0m\u001b[1;33m)\u001b[0m\u001b[1;33m,\u001b[0m \u001b[1;32mlambda\u001b[0m \u001b[0mx\u001b[0m\u001b[1;33m:\u001b[0m \u001b[1;33m(\u001b[0m\u001b[1;33m(\u001b[0m\u001b[0mx\u001b[0m\u001b[1;33m*\u001b[0m\u001b[1;36m9\u001b[0m\u001b[1;33m)\u001b[0m \u001b[1;33m/\u001b[0m \u001b[1;36m5\u001b[0m\u001b[1;33m)\u001b[0m\u001b[1;33m+\u001b[0m\u001b[1;36m32\u001b[0m\u001b[1;33m)\u001b[0m\u001b[1;33m.\u001b[0m\u001b[0malias\u001b[0m\u001b[1;33m(\u001b[0m\u001b[1;34m'fahrenheit'\u001b[0m\u001b[1;33m)\u001b[0m\u001b[1;33m)\u001b[0m\u001b[1;33m.\u001b[0m\u001b[0mshow\u001b[0m\u001b[1;33m(\u001b[0m\u001b[1;33m)\u001b[0m \u001b[1;31m#new in version 3.1\u001b[0m\u001b[1;33m\u001b[0m\u001b[1;33m\u001b[0m\u001b[0m\n\u001b[0m",
      "\u001b[1;31mNameError\u001b[0m: name 'transform' is not defined"
     ]
    }
   ],
   "source": [
    "t_c.select('celsius',transform(col('id'), lambda x: ((x*9) / 5)+32).alias('fahrenheit')).show() #new in version 3.1"
   ]
  },
  {
   "cell_type": "code",
   "execution_count": 12,
   "id": "dcc4be3e",
   "metadata": {},
   "outputs": [
    {
     "name": "stdout",
     "output_type": "stream",
     "text": [
      "+--------------------+\n",
      "|                high|\n",
      "+--------------------+\n",
      "|[35, 36, 40, 42, 36]|\n",
      "|        [34, 55, 56]|\n",
      "+--------------------+\n",
      "\n"
     ]
    }
   ],
   "source": [
    "spark.sql(\"\"\"SELECT filter(celsius, t->t>32)as high FROM tC\"\"\").show() #filter"
   ]
  },
  {
   "cell_type": "code",
   "execution_count": 13,
   "id": "a451ebae",
   "metadata": {},
   "outputs": [
    {
     "name": "stdout",
     "output_type": "stream",
     "text": [
      "+--------------------+---------+\n",
      "|             celsius|threshold|\n",
      "+--------------------+---------+\n",
      "|[35, 36, 32, 30, ...|    false|\n",
      "|[31, 32, 34, 55, ...|     true|\n",
      "+--------------------+---------+\n",
      "\n"
     ]
    }
   ],
   "source": [
    "spark.sql(\"\"\"SELECT celsius, exists(celsius, t->t>42) as threshold FROM tC \"\"\").show()"
   ]
  },
  {
   "cell_type": "code",
   "execution_count": 16,
   "id": "228518ec",
   "metadata": {},
   "outputs": [],
   "source": [
    "def calculate(cel):\n",
    "    sum_e = 0\n",
    "    for v in cel:\n",
    "        sum_e += v\n",
    "    avg = sum_e/len(cel)\n",
    "    return (avg*9)/5+32\n",
    "        \n",
    "def avgAndTransform(a:pd.Series)->pd.Series:\n",
    "    return a.map(lambda x: calculate(x))"
   ]
  },
  {
   "cell_type": "code",
   "execution_count": 18,
   "id": "45369151",
   "metadata": {},
   "outputs": [],
   "source": [
    "avgAndTransform_udf = pandas_udf(avgAndTransform, returnType=LongType())"
   ]
  },
  {
   "cell_type": "code",
   "execution_count": 22,
   "id": "d862bea6",
   "metadata": {},
   "outputs": [
    {
     "name": "stdout",
     "output_type": "stream",
     "text": [
      "+----------------------------+-------------+\n",
      "|celsius                     |avgFahrenheit|\n",
      "+----------------------------+-------------+\n",
      "|[35, 36, 32, 30, 40, 42, 36]|96           |\n",
      "|[31, 32, 34, 55, 56, 32]    |104          |\n",
      "+----------------------------+-------------+\n",
      "\n"
     ]
    }
   ],
   "source": [
    "#caculate average celsius and transform into fahrenheit using reduce() function\n",
    "(t_c.select('celsius', avgAndTransform_udf(col('celsius')).alias('avgFahrenheit')).show(truncate=False))"
   ]
  },
  {
   "cell_type": "code",
   "execution_count": 15,
   "id": "775910b1",
   "metadata": {},
   "outputs": [],
   "source": [
    "fahrenheit = spark.read.parquet('spark-warehouse/fahrenheit_transform_tbl')"
   ]
  },
  {
   "cell_type": "code",
   "execution_count": 16,
   "id": "dc97aadb",
   "metadata": {},
   "outputs": [
    {
     "name": "stdout",
     "output_type": "stream",
     "text": [
      "+--------------------+--------------------+\n",
      "|             celsius|          fahrenheit|\n",
      "+--------------------+--------------------+\n",
      "|[35, 36, 32, 30, ...|[95, 96, 89, 86, ...|\n",
      "|[31, 32, 34, 55, ...|[87, 89, 93, 131,...|\n",
      "+--------------------+--------------------+\n",
      "\n"
     ]
    }
   ],
   "source": [
    "fahrenheit.show()"
   ]
  },
  {
   "cell_type": "code",
   "execution_count": 15,
   "id": "bff84fc0",
   "metadata": {},
   "outputs": [
    {
     "name": "stdout",
     "output_type": "stream",
     "text": [
      "+----------------------------+------------------------------+\n",
      "|celsius                     |fahrenheit                    |\n",
      "+----------------------------+------------------------------+\n",
      "|[35, 36, 32, 30, 40, 42, 36]|[95, 96, 89, 86, 104, 107, 96]|\n",
      "|[31, 32, 34, 55, 56, 32]    |[87, 89, 93, 131, 132, 89]    |\n",
      "+----------------------------+------------------------------+\n",
      "\n"
     ]
    }
   ],
   "source": [
    "fahrenheit.show(truncate=False)"
   ]
  },
  {
   "cell_type": "code",
   "execution_count": null,
   "id": "5b12b826",
   "metadata": {},
   "outputs": [],
   "source": []
  }
 ],
 "metadata": {
  "kernelspec": {
   "display_name": "Python 3",
   "language": "python",
   "name": "python3"
  },
  "language_info": {
   "codemirror_mode": {
    "name": "ipython",
    "version": 3
   },
   "file_extension": ".py",
   "mimetype": "text/x-python",
   "name": "python",
   "nbconvert_exporter": "python",
   "pygments_lexer": "ipython3",
   "version": "3.8.8"
  }
 },
 "nbformat": 4,
 "nbformat_minor": 5
}
