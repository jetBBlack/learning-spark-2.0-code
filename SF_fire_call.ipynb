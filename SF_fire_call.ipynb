{
 "cells": [
  {
   "cell_type": "code",
   "execution_count": 1,
   "id": "907efbcd",
   "metadata": {},
   "outputs": [],
   "source": [
    "import findspark\n",
    "findspark.init() "
   ]
  },
  {
   "cell_type": "code",
   "execution_count": 2,
   "id": "7cf4b88d",
   "metadata": {},
   "outputs": [],
   "source": [
    "from pyspark.sql import SparkSession\n",
    "from pyspark.sql.types import *\n",
    "from pyspark.sql.functions import *"
   ]
  },
  {
   "cell_type": "code",
   "execution_count": 3,
   "id": "d143fd7a",
   "metadata": {},
   "outputs": [],
   "source": [
    "spark = (SparkSession.builder.appName('readNwrite').getOrCreate())"
   ]
  },
  {
   "cell_type": "code",
   "execution_count": 4,
   "id": "d95877cb",
   "metadata": {},
   "outputs": [],
   "source": [
    "fire_schema = StructType([StructField('CallNumber', IntegerType(), True),\n",
    "                        StructField('UnitID', StringType(), True),\n",
    "                        StructField('IncidentNumber', IntegerType(), True),\n",
    "                        StructField('CallType', StringType(), True),\n",
    "                        StructField('CallDate', StringType(), True),\n",
    "                        StructField('WatchDate', StringType(), True),\n",
    "                        StructField('CallFinalDisposition', StringType(), True),\n",
    "                        StructField('AvailableDtTm', StringType(), True),\n",
    "                        StructField('Address', StringType(), True),\n",
    "                        StructField('City', StringType(), True),\n",
    "                        StructField('Zipcode', IntegerType(), True),\n",
    "                        StructField('Battalion', StringType(), True),\n",
    "                        StructField('StationArea', StringType(), True),\n",
    "                        StructField('Box', StringType(), True),\n",
    "                        StructField('OriginalPriority', StringType(), True),\n",
    "                        StructField('Priority', StringType(), True),\n",
    "                        StructField('FinalPriority', IntegerType(), True),\n",
    "                        StructField('ALSUnit', BooleanType(), True),\n",
    "                        StructField('CallTypeGroup', StringType(), True),\n",
    "                        StructField('NumAlarms', IntegerType(), True),\n",
    "                        StructField('UnitType', StringType(), True),\n",
    "                        StructField('UnitSequenceInCallDispatch', IntegerType(), True),\n",
    "                        StructField('FirePreventionDistrict', StringType(), True),\n",
    "                        StructField('SupervisorDistrict', StringType(), True),\n",
    "                        StructField('Neighborhood', StringType(), True),\n",
    "                        StructField('Location', StringType(), True),\n",
    "                        StructField('RowID', StringType(), True),\n",
    "                        StructField('Delay', FloatType(), True)])"
   ]
  },
  {
   "cell_type": "code",
   "execution_count": 5,
   "id": "2ff413aa",
   "metadata": {},
   "outputs": [],
   "source": [
    "fire_df = spark.read.csv('sf-fire-calls.csv',header=True, schema=fire_schema)"
   ]
  },
  {
   "cell_type": "code",
   "execution_count": 6,
   "id": "50e5cb2c",
   "metadata": {},
   "outputs": [
    {
     "data": {
      "text/plain": [
       "['CallNumber',\n",
       " 'UnitID',\n",
       " 'IncidentNumber',\n",
       " 'CallType',\n",
       " 'CallDate',\n",
       " 'WatchDate',\n",
       " 'CallFinalDisposition',\n",
       " 'AvailableDtTm',\n",
       " 'Address',\n",
       " 'City',\n",
       " 'Zipcode',\n",
       " 'Battalion',\n",
       " 'StationArea',\n",
       " 'Box',\n",
       " 'OriginalPriority',\n",
       " 'Priority',\n",
       " 'FinalPriority',\n",
       " 'ALSUnit',\n",
       " 'CallTypeGroup',\n",
       " 'NumAlarms',\n",
       " 'UnitType',\n",
       " 'UnitSequenceInCallDispatch',\n",
       " 'FirePreventionDistrict',\n",
       " 'SupervisorDistrict',\n",
       " 'Neighborhood',\n",
       " 'Location',\n",
       " 'RowID',\n",
       " 'Delay']"
      ]
     },
     "execution_count": 6,
     "metadata": {},
     "output_type": "execute_result"
    }
   ],
   "source": [
    "fire_df.columns"
   ]
  },
  {
   "cell_type": "code",
   "execution_count": 6,
   "id": "87c2abd0",
   "metadata": {},
   "outputs": [
    {
     "name": "stdout",
     "output_type": "stream",
     "text": [
      "+----------+\n",
      "|CallDate  |\n",
      "+----------+\n",
      "|01/11/2002|\n",
      "|01/11/2002|\n",
      "|01/11/2002|\n",
      "|01/11/2002|\n",
      "|01/11/2002|\n",
      "|01/11/2002|\n",
      "|01/11/2002|\n",
      "|01/11/2002|\n",
      "|01/11/2002|\n",
      "|01/11/2002|\n",
      "+----------+\n",
      "only showing top 10 rows\n",
      "\n"
     ]
    }
   ],
   "source": [
    "fire_df.select(col('CallDate')).show(10, False)"
   ]
  },
  {
   "cell_type": "code",
   "execution_count": 8,
   "id": "2a5db436",
   "metadata": {},
   "outputs": [],
   "source": [
    "parquet_path = \"C:\\Data\\PySpark\\parquet\"\n",
    "fire_df.write.format(\"parquet\").save(parquet_path)"
   ]
  },
  {
   "cell_type": "code",
   "execution_count": 9,
   "id": "59e79cb2",
   "metadata": {},
   "outputs": [
    {
     "name": "stdout",
     "output_type": "stream",
     "text": [
      "+--------------+----------------------+----------------+\n",
      "|IncidentNumber|AvailableDtTm         |CallType        |\n",
      "+--------------+----------------------+----------------+\n",
      "|2003235       |01/11/2002 01:51:44 AM|Structure Fire  |\n",
      "|2003241       |01/11/2002 03:01:18 AM|Medical Incident|\n",
      "|2003242       |01/11/2002 02:39:50 AM|Medical Incident|\n",
      "|2003250       |01/11/2002 04:16:46 AM|Vehicle Fire    |\n",
      "|2003259       |01/11/2002 06:01:58 AM|Alarms          |\n",
      "+--------------+----------------------+----------------+\n",
      "only showing top 5 rows\n",
      "\n"
     ]
    }
   ],
   "source": [
    "few_fire_df = (fire_df.select(\"IncidentNumber\",\"AvailableDtTm\",\"CallType\").where(col(\"CallType\")!= \"MedicalIncident\"))\n",
    "few_fire_df.show(5, truncate=False)"
   ]
  },
  {
   "cell_type": "code",
   "execution_count": 10,
   "id": "e26b30b6",
   "metadata": {},
   "outputs": [
    {
     "name": "stdout",
     "output_type": "stream",
     "text": [
      "+----------------+\n",
      "|DistinctCallType|\n",
      "+----------------+\n",
      "|              30|\n",
      "+----------------+\n",
      "\n"
     ]
    }
   ],
   "source": [
    "(fire_df\n",
    "    .select(\"CallType\")\n",
    "    .where(col(\"CallType\").isNotNull())\n",
    "    .agg(countDistinct(\"CallType\").alias('DistinctCallType'))\n",
    "    .show())"
   ]
  },
  {
   "cell_type": "code",
   "execution_count": 11,
   "id": "270d4f83",
   "metadata": {},
   "outputs": [
    {
     "name": "stdout",
     "output_type": "stream",
     "text": [
      "+--------------------------------------------+\n",
      "|CallType                                    |\n",
      "+--------------------------------------------+\n",
      "|Elevator / Escalator Rescue                 |\n",
      "|Marine Fire                                 |\n",
      "|Aircraft Emergency                          |\n",
      "|Confined Space / Structure Collapse         |\n",
      "|Administrative                              |\n",
      "|Alarms                                      |\n",
      "|Odor (Strange / Unknown)                    |\n",
      "|Citizen Assist / Service Call               |\n",
      "|HazMat                                      |\n",
      "|Watercraft in Distress                      |\n",
      "|Explosion                                   |\n",
      "|Oil Spill                                   |\n",
      "|Vehicle Fire                                |\n",
      "|Suspicious Package                          |\n",
      "|Extrication / Entrapped (Machinery, Vehicle)|\n",
      "|Other                                       |\n",
      "|Outside Fire                                |\n",
      "|Traffic Collision                           |\n",
      "|Assist Police                               |\n",
      "|Gas Leak (Natural and LP Gases)             |\n",
      "|Water Rescue                                |\n",
      "|Electrical Hazard                           |\n",
      "|High Angle Rescue                           |\n",
      "|Structure Fire                              |\n",
      "|Industrial Accidents                        |\n",
      "|Medical Incident                            |\n",
      "|Mutual Aid / Assist Outside Agency          |\n",
      "|Fuel Spill                                  |\n",
      "|Smoke Investigation (Outside)               |\n",
      "|Train / Rail Incident                       |\n",
      "+--------------------------------------------+\n",
      "\n"
     ]
    }
   ],
   "source": [
    "(fire_df\n",
    "    .select(\"CallType\")\n",
    "    .where(col(\"CallType\").isNotNull())\n",
    "    .distinct()\n",
    "    .show(30, False))"
   ]
  },
  {
   "cell_type": "code",
   "execution_count": 12,
   "id": "be5806d2",
   "metadata": {},
   "outputs": [
    {
     "name": "stdout",
     "output_type": "stream",
     "text": [
      "+-------------------+\n",
      "|ResponseDelayedMins|\n",
      "+-------------------+\n",
      "|               6.25|\n",
      "|               7.25|\n",
      "|          11.916667|\n",
      "|           8.633333|\n",
      "|           95.28333|\n",
      "|                7.6|\n",
      "|           6.133333|\n",
      "|          6.9166665|\n",
      "|               6.35|\n",
      "|           7.983333|\n",
      "|              13.55|\n",
      "|          13.583333|\n",
      "|          6.5333333|\n",
      "|               8.15|\n",
      "|                6.6|\n",
      "|          7.0666666|\n",
      "|               13.4|\n",
      "|           8.716666|\n",
      "|          7.9333334|\n",
      "|          6.4666667|\n",
      "+-------------------+\n",
      "only showing top 20 rows\n",
      "\n"
     ]
    }
   ],
   "source": [
    "new_df = fire_df.withColumnRenamed('Delay', 'ResponseDelayedMins')\n",
    "(new_df.select('ResponseDelayedMins').where(col('ResponseDelayedMins')>6).show())"
   ]
  },
  {
   "cell_type": "code",
   "execution_count": 13,
   "id": "8094083d",
   "metadata": {},
   "outputs": [],
   "source": [
    "#Convert Datetime\n",
    "fire_ts_df = (new_df.withColumn('IncidentDate', to_timestamp(col('CallDate'), \"MM/dd/yyyy\"))\n",
    "             .drop('CallDate')\n",
    "             .withColumn('OnWatchDate', to_timestamp(col('WatchDate'), \"MM/dd/yyyy\"))\n",
    "             .drop('WatchDate')\n",
    "             .withColumn('AvailableDtTs', to_timestamp(col('AvailableDtTm'), \"MM/dd/yyyy hh:mm:ss a\"))\n",
    "             .drop('AvailableDtTm'))"
   ]
  },
  {
   "cell_type": "code",
   "execution_count": 14,
   "id": "92b344b3",
   "metadata": {},
   "outputs": [
    {
     "name": "stdout",
     "output_type": "stream",
     "text": [
      "+-------------------+-------------------+-------------------+\n",
      "|IncidentDate       |OnWatchDate        |AvailableDtTS      |\n",
      "+-------------------+-------------------+-------------------+\n",
      "|2002-01-11 00:00:00|2002-01-10 00:00:00|2002-01-11 01:51:44|\n",
      "|2002-01-11 00:00:00|2002-01-10 00:00:00|2002-01-11 03:01:18|\n",
      "|2002-01-11 00:00:00|2002-01-10 00:00:00|2002-01-11 02:39:50|\n",
      "|2002-01-11 00:00:00|2002-01-10 00:00:00|2002-01-11 04:16:46|\n",
      "|2002-01-11 00:00:00|2002-01-10 00:00:00|2002-01-11 06:01:58|\n",
      "+-------------------+-------------------+-------------------+\n",
      "only showing top 5 rows\n",
      "\n"
     ]
    }
   ],
   "source": [
    "(fire_ts_df\n",
    ".select(\"IncidentDate\", \"OnWatchDate\", \"AvailableDtTS\")\n",
    ".show(5, False))"
   ]
  },
  {
   "cell_type": "code",
   "execution_count": 15,
   "id": "6909ba0b",
   "metadata": {},
   "outputs": [
    {
     "name": "stdout",
     "output_type": "stream",
     "text": [
      "+------------------+\n",
      "|year(IncidentDate)|\n",
      "+------------------+\n",
      "|              2000|\n",
      "|              2001|\n",
      "|              2002|\n",
      "|              2003|\n",
      "|              2004|\n",
      "|              2005|\n",
      "|              2006|\n",
      "|              2007|\n",
      "|              2008|\n",
      "|              2009|\n",
      "|              2010|\n",
      "|              2011|\n",
      "|              2012|\n",
      "|              2013|\n",
      "|              2014|\n",
      "|              2015|\n",
      "|              2016|\n",
      "|              2017|\n",
      "|              2018|\n",
      "+------------------+\n",
      "\n"
     ]
    }
   ],
   "source": [
    "(fire_ts_df.select(year('IncidentDate')).distinct().orderBy(year('IncidentDate')).show())"
   ]
  },
  {
   "cell_type": "code",
   "execution_count": 16,
   "id": "33fd5400",
   "metadata": {},
   "outputs": [],
   "source": [
    "import pyspark.sql.functions as F"
   ]
  },
  {
   "cell_type": "code",
   "execution_count": 17,
   "id": "a3b37ebb",
   "metadata": {},
   "outputs": [
    {
     "name": "stdout",
     "output_type": "stream",
     "text": [
      "+--------------+------------------------+------------------------+------------------------+\n",
      "|sum(NumAlarms)|avg(ResponseDelayedMins)|min(ResponseDelayedMins)|max(ResponseDelayedMins)|\n",
      "+--------------+------------------------+------------------------+------------------------+\n",
      "|        176170|       3.892364154521585|             0.016666668|                 1844.55|\n",
      "+--------------+------------------------+------------------------+------------------------+\n",
      "\n"
     ]
    }
   ],
   "source": [
    "(fire_ts_df\n",
    "    .select(F.sum(\"NumAlarms\"), F.avg(\"ResponseDelayedMins\"), F.min(\"ResponseDelayedMins\"), F.max(\"ResponseDelayedMins\"))\n",
    "    .show())"
   ]
  },
  {
   "cell_type": "code",
   "execution_count": 18,
   "id": "30b4669c",
   "metadata": {},
   "outputs": [],
   "source": [
    "fire_ts_df.write.csv('statistic.csv')"
   ]
  },
  {
   "cell_type": "markdown",
   "id": "802bdd43",
   "metadata": {},
   "source": [
    "### Aggregation"
   ]
  },
  {
   "cell_type": "code",
   "execution_count": 50,
   "id": "03ab9d35",
   "metadata": {},
   "outputs": [],
   "source": [
    "#What were most commom type of fire call?\n",
    "most_type_call_fire=(fire_ts_df\n",
    "    .select('CallType')\n",
    "    .where(col('CallType').isNotNull())\n",
    "    .groupBy(\"CallType\")\n",
    "    .count()\n",
    "    .orderBy('count', ascending=False)\n",
    "    )"
   ]
  },
  {
   "cell_type": "code",
   "execution_count": 52,
   "id": "7302dd4b",
   "metadata": {},
   "outputs": [
    {
     "data": {
      "text/plain": [
       "30"
      ]
     },
     "execution_count": 52,
     "metadata": {},
     "output_type": "execute_result"
    }
   ],
   "source": [
    "most_type_call_fire.count()"
   ]
  },
  {
   "cell_type": "code",
   "execution_count": 20,
   "id": "fd92a11c",
   "metadata": {},
   "outputs": [],
   "source": [
    "#what zip codes accounted for the most calls\n",
    "most_zipcode = (fire_ts_df\n",
    "               .select('Zipcode')\n",
    "               .where(col('Zipcode').isNotNull())\n",
    "                .groupBy('Zipcode')\n",
    "               .count()\n",
    "               .orderBy('count', ascending=False))"
   ]
  },
  {
   "cell_type": "code",
   "execution_count": 21,
   "id": "fb7b990c",
   "metadata": {},
   "outputs": [],
   "source": [
    "most_zipcode.coalesce(1).write.format('json').save('zipcode')"
   ]
  },
  {
   "cell_type": "code",
   "execution_count": 24,
   "id": "02287c92",
   "metadata": {},
   "outputs": [
    {
     "name": "stdout",
     "output_type": "stream",
     "text": [
      "+-------------------------------+\n",
      "|CallType                       |\n",
      "+-------------------------------+\n",
      "|Elevator / Escalator Rescue    |\n",
      "|Alarms                         |\n",
      "|Odor (Strange / Unknown)       |\n",
      "|Citizen Assist / Service Call  |\n",
      "|HazMat                         |\n",
      "|Explosion                      |\n",
      "|Vehicle Fire                   |\n",
      "|Suspicious Package             |\n",
      "|Other                          |\n",
      "|Outside Fire                   |\n",
      "|Traffic Collision              |\n",
      "|Assist Police                  |\n",
      "|Gas Leak (Natural and LP Gases)|\n",
      "|Water Rescue                   |\n",
      "|Electrical Hazard              |\n",
      "|Structure Fire                 |\n",
      "|Medical Incident               |\n",
      "|Fuel Spill                     |\n",
      "|Smoke Investigation (Outside)  |\n",
      "|Train / Rail Incident          |\n",
      "+-------------------------------+\n",
      "\n"
     ]
    }
   ],
   "source": [
    "#What were all the different types of fire calls in 2018?\n",
    "(fire_ts_df\n",
    "    .select(col('CallType'))\n",
    "    .where(year('IncidentDate')==2018)\n",
    "    .distinct()\n",
    "    .show(truncate=False))"
   ]
  },
  {
   "cell_type": "code",
   "execution_count": 39,
   "id": "36868771",
   "metadata": {},
   "outputs": [
    {
     "name": "stdout",
     "output_type": "stream",
     "text": [
      "+----------+------------+\n",
      "|CallNumber|CallType    |\n",
      "+----------+------------+\n",
      "|181023000 |Water Rescue|\n",
      "|182811099 |Water Rescue|\n",
      "|181111931 |Water Rescue|\n",
      "|180820882 |Water Rescue|\n",
      "|181111931 |Water Rescue|\n",
      "|180883627 |Water Rescue|\n",
      "|181122436 |Water Rescue|\n",
      "|180992355 |Water Rescue|\n",
      "|181250542 |Water Rescue|\n",
      "|180841192 |Water Rescue|\n",
      "+----------+------------+\n",
      "only showing top 10 rows\n",
      "\n"
     ]
    }
   ],
   "source": [
    "fire_df_dt.select('CallNumber','CallType').where(year(\"IncidentDate\")==2018).orderBy(\"CallType\",ascending=False).show(10, truncate=False)"
   ]
  },
  {
   "cell_type": "code",
   "execution_count": 27,
   "id": "c7f72efa",
   "metadata": {},
   "outputs": [
    {
     "name": "stdout",
     "output_type": "stream",
     "text": [
      "+-------------------+-----+\n",
      "|month(IncidentDate)|Total|\n",
      "+-------------------+-----+\n",
      "|                 10| 1068|\n",
      "|                  5| 1047|\n",
      "|                  3| 1029|\n",
      "|                  8| 1021|\n",
      "|                  1| 1007|\n",
      "|                  7|  974|\n",
      "|                  6|  974|\n",
      "|                  9|  951|\n",
      "|                  4|  947|\n",
      "|                  2|  919|\n",
      "|                 11|  199|\n",
      "+-------------------+-----+\n",
      "\n"
     ]
    }
   ],
   "source": [
    "#What months within the year 2018 saw the highest number of fire calls?\n",
    "(fire_ts_df\n",
    "    .select(month('IncidentDate'),'CallNumber', 'IncidentDate')\n",
    "     .where(year('IncidentDate')==2018)\n",
    "    .groupBy(month('IncidentDate'))\n",
    "    .agg(count(\"CallNumber\").alias(\"Total\"))\n",
    "    .orderBy('Total', ascending=False)\n",
    "    .show())"
   ]
  },
  {
   "cell_type": "code",
   "execution_count": 29,
   "id": "8d464bfb",
   "metadata": {},
   "outputs": [
    {
     "name": "stdout",
     "output_type": "stream",
     "text": [
      "+------------------------------+-----+\n",
      "|Neighborhood                  |count|\n",
      "+------------------------------+-----+\n",
      "|Tenderloin                    |1393 |\n",
      "|South of Market               |1053 |\n",
      "|Mission                       |913  |\n",
      "|Financial District/South Beach|772  |\n",
      "|Bayview Hunters Point         |522  |\n",
      "|Western Addition              |352  |\n",
      "|Sunset/Parkside               |346  |\n",
      "|Nob Hill                      |295  |\n",
      "|Hayes Valley                  |291  |\n",
      "|Outer Richmond                |262  |\n",
      "+------------------------------+-----+\n",
      "only showing top 10 rows\n",
      "\n"
     ]
    }
   ],
   "source": [
    "#Which neighborhood in San Francisco generated the most fire calls in 2018?\n",
    "(fire_ts_df\n",
    "    .select('Neighborhood', 'IncidentDate')\n",
    "    .filter(year('IncidentDate')==2018)\n",
    "    .groupBy('Neighborhood')\n",
    "    .count()\n",
    "    .orderBy('count', ascending=False)\n",
    "    .show(10,truncate =False))"
   ]
  },
  {
   "cell_type": "code",
   "execution_count": 40,
   "id": "73c3ae0e",
   "metadata": {},
   "outputs": [
    {
     "name": "stdout",
     "output_type": "stream",
     "text": [
      "+------------------------------+-------------------+\n",
      "|Neighborhood                  |ResponseDelayedMins|\n",
      "+------------------------------+-------------------+\n",
      "|Chinatown                     |491.26666          |\n",
      "|Financial District/South Beach|406.63333          |\n",
      "|Tenderloin                    |340.48334          |\n",
      "|Haight Ashbury                |175.86667          |\n",
      "|Bayview Hunters Point         |155.8              |\n",
      "|Financial District/South Beach|135.51666          |\n",
      "|Pacific Heights               |129.01666          |\n",
      "|Potrero Hill                  |109.8              |\n",
      "|Inner Sunset                  |106.13333          |\n",
      "|South of Market               |94.71667           |\n",
      "+------------------------------+-------------------+\n",
      "only showing top 10 rows\n",
      "\n"
     ]
    }
   ],
   "source": [
    "#Which neighborhoods had the worst response times to fire calls in 2018?\n",
    "(fire_ts_df\n",
    "    .select('Neighborhood', 'ResponseDelayedMins')\n",
    "    .where(year('IncidentDate')==2018)\n",
    "    .orderBy('ResponseDelayedMins', ascending=False)\n",
    "    .show(10,truncate =False))"
   ]
  },
  {
   "cell_type": "code",
   "execution_count": 46,
   "id": "602afa02",
   "metadata": {},
   "outputs": [
    {
     "name": "stdout",
     "output_type": "stream",
     "text": [
      "+------------------------+-----+\n",
      "|weekofyear(IncidentDate)|count|\n",
      "+------------------------+-----+\n",
      "|                      22|  259|\n",
      "|                      40|  255|\n",
      "|                      43|  250|\n",
      "|                      25|  249|\n",
      "|                       1|  246|\n",
      "|                      44|  244|\n",
      "|                      13|  243|\n",
      "|                      32|  243|\n",
      "|                      11|  240|\n",
      "|                       5|  236|\n",
      "|                      18|  236|\n",
      "|                      23|  235|\n",
      "|                      42|  234|\n",
      "|                      31|  234|\n",
      "|                       2|  234|\n",
      "|                      19|  233|\n",
      "|                      34|  232|\n",
      "|                      10|  232|\n",
      "|                       8|  232|\n",
      "|                      28|  231|\n",
      "+------------------------+-----+\n",
      "only showing top 20 rows\n",
      "\n"
     ]
    }
   ],
   "source": [
    "#Which week in the year in 2018 had the most fire calls?\n",
    "(fire_ts_df.select('IncidentDate', 'CallNumber')\n",
    "    .where(year('IncidentDate')==2018)\n",
    "    .groupBy(weekofyear('IncidentDate'))\n",
    "     .count()\n",
    "     .orderBy('count', ascending=False)\n",
    "    .show())"
   ]
  },
  {
   "cell_type": "code",
   "execution_count": 60,
   "id": "cc3ece6d",
   "metadata": {},
   "outputs": [],
   "source": [
    "number_of_firecall = (fire_ts_df.select('IncidentDate')\n",
    "                         .groupBy(year('IncidentDate'))\n",
    "                         .count()\n",
    "                         .orderBy(year('IncidentDate'))\n",
    "                        )"
   ]
  },
  {
   "cell_type": "code",
   "execution_count": null,
   "id": "ca89ac33",
   "metadata": {},
   "outputs": [],
   "source": []
  }
 ],
 "metadata": {
  "kernelspec": {
   "display_name": "Python 3",
   "language": "python",
   "name": "python3"
  },
  "language_info": {
   "codemirror_mode": {
    "name": "ipython",
    "version": 3
   },
   "file_extension": ".py",
   "mimetype": "text/x-python",
   "name": "python",
   "nbconvert_exporter": "python",
   "pygments_lexer": "ipython3",
   "version": "3.8.8"
  }
 },
 "nbformat": 4,
 "nbformat_minor": 5
}
