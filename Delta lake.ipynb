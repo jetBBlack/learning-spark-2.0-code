{
 "cells": [
  {
   "cell_type": "code",
   "execution_count": 1,
   "id": "d27863b4",
   "metadata": {},
   "outputs": [],
   "source": [
    "import findspark\n",
    "findspark.init()"
   ]
  },
  {
   "cell_type": "code",
   "execution_count": 2,
   "id": "199cb6b4",
   "metadata": {},
   "outputs": [],
   "source": [
    "from pyspark.sql.functions import *\n",
    "from pyspark import SparkContext\n",
    "from pyspark.sql import SparkSession\n",
    "import os"
   ]
  },
  {
   "cell_type": "code",
   "execution_count": 3,
   "id": "84349d6c",
   "metadata": {},
   "outputs": [],
   "source": [
    "os.environ['PYSPARK_SUBMIT_ARGS'] = '--packages io.delta:delta-core_2.12:0.7.0 pyspark-shell'"
   ]
  },
  {
   "cell_type": "code",
   "execution_count": 4,
   "id": "ac7ff36a",
   "metadata": {
    "scrolled": true
   },
   "outputs": [],
   "source": [
    "spark = SparkSession.builder.appName('loan-risks').config(\"spark.sql.extensions\", \"io.delta.sql.DeltaSparkSessionExtension\") \\\n",
    "    .config(\"spark.sql.catalog.spark_catalog\", \"org.apache.spark.sql.delta.catalog.DeltaCatalog\").getOrCreate()"
   ]
  },
  {
   "cell_type": "code",
   "execution_count": 5,
   "id": "dd988411",
   "metadata": {
    "scrolled": true
   },
   "outputs": [],
   "source": [
    "#configure delta lake path\n",
    "delta_path = 'tmp/lakehouse'\n",
    "#read loans data and create the Delta Lake table\n",
    "(spark.read.format('parquet').load('loan-risks.snappy.parquet').coalesce(1).write.format('delta').mode('overwrite').save(delta_path))"
   ]
  },
  {
   "cell_type": "code",
   "execution_count": 6,
   "id": "8849a22b",
   "metadata": {},
   "outputs": [],
   "source": [
    "# Create a view on the data called loans_delta\n",
    "spark.read.format('delta').load(delta_path).createOrReplaceTempView(\"loans_delta\")"
   ]
  },
  {
   "cell_type": "code",
   "execution_count": 7,
   "id": "d733bf72",
   "metadata": {},
   "outputs": [
    {
     "name": "stdout",
     "output_type": "stream",
     "text": [
      "+--------+\n",
      "|count(1)|\n",
      "+--------+\n",
      "|   14705|\n",
      "+--------+\n",
      "\n"
     ]
    }
   ],
   "source": [
    "spark.sql('SELECT COUNT(*) FROM loans_delta').show()"
   ]
  },
  {
   "cell_type": "code",
   "execution_count": 7,
   "id": "b8e65c47",
   "metadata": {},
   "outputs": [],
   "source": [
    "cols = ['loan_id', 'funded_amnt', 'paid_amnt', 'addr_state','closed']\n",
    "items = [\n",
    "(1111111, 1000, 1000.0, 'TX',True),\n",
    "(2222222, 2000, 0.0, 'CA', False)\n",
    "]\n",
    "\n",
    "loans_update = (spark.createDataFrame(items, cols).withColumn(\"funded_amnt\", col(\"funded_amnt\").cast(\"int\")))"
   ]
  },
  {
   "cell_type": "code",
   "execution_count": 8,
   "id": "f0c293a3",
   "metadata": {},
   "outputs": [],
   "source": [
    "loans_update.write.format('delta').mode('append').option(\"mergeSchema\", \"true\").save(delta_path)"
   ]
  },
  {
   "cell_type": "code",
   "execution_count": 11,
   "id": "40dedbda",
   "metadata": {
    "scrolled": true
   },
   "outputs": [
    {
     "name": "stdout",
     "output_type": "stream",
     "text": [
      "+-------+-----------+---------+----------+------+\n",
      "|loan_id|funded_amnt|paid_amnt|addr_state|closed|\n",
      "+-------+-----------+---------+----------+------+\n",
      "|      0|       1000|   182.22|        CA|  null|\n",
      "|      1|       1000|   361.19|        WA|  null|\n",
      "|      2|       1000|   176.26|        TX|  null|\n",
      "|      3|       1000|   1000.0|        OK|  null|\n",
      "|      4|       1000|   249.98|        PA|  null|\n",
      "|      5|       1000|    408.6|        CA|  null|\n",
      "|      6|       1000|   1000.0|        MD|  null|\n",
      "|      7|       1000|   168.81|        OH|  null|\n",
      "|      8|       1000|   193.64|        TX|  null|\n",
      "|      9|       1000|   218.83|        CT|  null|\n",
      "+-------+-----------+---------+----------+------+\n",
      "\n"
     ]
    }
   ],
   "source": [
    "spark.sql('SELECT * FROM loans_delta LIMIT 10').show()"
   ]
  },
  {
   "cell_type": "code",
   "execution_count": 9,
   "id": "1ab9daf8",
   "metadata": {},
   "outputs": [],
   "source": [
    "#Updating data to fix errors\n",
    "#1. Copy all of the row that are not affected into new table\n",
    "from delta.tables import *\n",
    "deltaTable = DeltaTable.forPath(spark, delta_path)"
   ]
  },
  {
   "cell_type": "code",
   "execution_count": 10,
   "id": "73ee2f7f",
   "metadata": {},
   "outputs": [],
   "source": [
    "deltaTable.update(\"addr_state='OR'\", {\"addr_state\":\"'WA'\"})"
   ]
  },
  {
   "cell_type": "code",
   "execution_count": 14,
   "id": "7e88a042",
   "metadata": {},
   "outputs": [],
   "source": [
    "deltaTable.delete(\"funded_amnt >= paid_amnt\")"
   ]
  },
  {
   "cell_type": "code",
   "execution_count": 12,
   "id": "54120acd",
   "metadata": {},
   "outputs": [],
   "source": [
    "(deltaTable.alias('t')\n",
    "    .merge(loans_update.alias('s'), 't.loan_id=s.loan_id')\n",
    "    .whenMatchedUpdateAll()\n",
    "    .whenNotMatchedInsertAll()\n",
    "    .execute())"
   ]
  },
  {
   "cell_type": "code",
   "execution_count": 17,
   "id": "f47b7d91",
   "metadata": {},
   "outputs": [
    {
     "name": "stdout",
     "output_type": "stream",
     "text": [
      "+-------+--------------------+------+--------+---------+--------------------+----+--------+---------+-----------+--------------+-------------+--------------------+------------+\n",
      "|version|           timestamp|userId|userName|operation| operationParameters| job|notebook|clusterId|readVersion|isolationLevel|isBlindAppend|    operationMetrics|userMetadata|\n",
      "+-------+--------------------+------+--------+---------+--------------------+----+--------+---------+-----------+--------------+-------------+--------------------+------------+\n",
      "|     11|2021-07-30 11:10:...|  null|    null|    MERGE|[predicate -> (t....|null|    null|     null|         10|          null|        false|[numTargetRowsCop...|        null|\n",
      "|     10|2021-07-30 11:07:...|  null|    null|   UPDATE|[predicate -> (ad...|null|    null|     null|          9|          null|        false|[numRemovedFiles ...|        null|\n",
      "|      9|2021-07-30 11:06:...|  null|    null|    WRITE|[mode -> Append, ...|null|    null|     null|          8|          null|         true|[numFiles -> 3, n...|        null|\n",
      "|      8|2021-07-30 11:05:...|  null|    null|    WRITE|[mode -> Overwrit...|null|    null|     null|          7|          null|        false|[numFiles -> 1, n...|        null|\n",
      "|      7|2021-07-29 14:42:...|  null|    null|   DELETE|[predicate -> [\"(...|null|    null|     null|          6|          null|        false|[numRemovedFiles ...|        null|\n",
      "|      6|2021-07-29 14:41:...|  null|    null|   UPDATE|[predicate -> (ad...|null|    null|     null|          5|          null|        false|[numRemovedFiles ...|        null|\n",
      "|      5|2021-07-29 14:41:...|  null|    null|    WRITE|[mode -> Append, ...|null|    null|     null|          4|          null|         true|[numFiles -> 3, n...|        null|\n",
      "|      4|2021-07-29 14:40:...|  null|    null|    WRITE|[mode -> Overwrit...|null|    null|     null|          3|          null|        false|[numFiles -> 1, n...|        null|\n",
      "|      3|2021-07-29 14:26:...|  null|    null|    WRITE|[mode -> Append, ...|null|    null|     null|          2|          null|         true|[numFiles -> 3, n...|        null|\n",
      "|      2|2021-07-29 14:26:...|  null|    null|    WRITE|[mode -> Overwrit...|null|    null|     null|          1|          null|        false|[numFiles -> 1, n...|        null|\n",
      "+-------+--------------------+------+--------+---------+--------------------+----+--------+---------+-----------+--------------+-------------+--------------------+------------+\n",
      "only showing top 10 rows\n",
      "\n"
     ]
    }
   ],
   "source": [
    "deltaTable.history().show(10)"
   ]
  },
  {
   "cell_type": "code",
   "execution_count": 18,
   "id": "b188ef41",
   "metadata": {},
   "outputs": [
    {
     "name": "stdout",
     "output_type": "stream",
     "text": [
      "+-------+-----------------------+---------+------------------------------------------+\n",
      "|version|timestamp              |operation|operationParameters                       |\n",
      "+-------+-----------------------+---------+------------------------------------------+\n",
      "|11     |2021-07-30 11:10:32.255|MERGE    |[predicate -> (t.`loan_id` = s.`loan_id`)]|\n",
      "|10     |2021-07-30 11:07:15.74 |UPDATE   |[predicate -> (addr_state#1269 = OR)]     |\n",
      "|9      |2021-07-30 11:06:54.407|WRITE    |[mode -> Append, partitionBy -> []]       |\n",
      "+-------+-----------------------+---------+------------------------------------------+\n",
      "\n"
     ]
    }
   ],
   "source": [
    "(deltaTable\n",
    ".history(3)\n",
    ".select(\"version\", \"timestamp\", \"operation\", \"operationParameters\")\n",
    ".show(truncate=False))"
   ]
  },
  {
   "cell_type": "code",
   "execution_count": 22,
   "id": "b1cf923f",
   "metadata": {},
   "outputs": [
    {
     "data": {
      "text/plain": [
       "DataFrame[loan_id: bigint, funded_amnt: int, paid_amnt: double, addr_state: string, closed: boolean]"
      ]
     },
     "execution_count": 22,
     "metadata": {},
     "output_type": "execute_result"
    }
   ],
   "source": [
    "(spark.read\n",
    ".format(\"delta\")\n",
    ".option(\"timestampAsOf\", \"2021-07-30\") # timestamp after table creation\n",
    ".load(delta_path))"
   ]
  },
  {
   "cell_type": "code",
   "execution_count": null,
   "id": "2078dbe5",
   "metadata": {},
   "outputs": [],
   "source": []
  }
 ],
 "metadata": {
  "kernelspec": {
   "display_name": "Python 3",
   "language": "python",
   "name": "python3"
  },
  "language_info": {
   "codemirror_mode": {
    "name": "ipython",
    "version": 3
   },
   "file_extension": ".py",
   "mimetype": "text/x-python",
   "name": "python",
   "nbconvert_exporter": "python",
   "pygments_lexer": "ipython3",
   "version": "3.8.8"
  }
 },
 "nbformat": 4,
 "nbformat_minor": 5
}
