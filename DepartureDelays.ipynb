{
 "cells": [
  {
   "cell_type": "code",
   "execution_count": 2,
   "id": "eb40b886",
   "metadata": {},
   "outputs": [],
   "source": [
    "import findspark\n",
    "findspark.init() "
   ]
  },
  {
   "cell_type": "code",
   "execution_count": 3,
   "id": "25788ee9",
   "metadata": {},
   "outputs": [],
   "source": [
    "from pyspark.sql import SparkSession\n",
    "from pyspark.sql.types import *\n",
    "from pyspark.sql.functions import *"
   ]
  },
  {
   "cell_type": "code",
   "execution_count": 4,
   "id": "8df8f22b",
   "metadata": {},
   "outputs": [],
   "source": [
    "spark = (SparkSession.builder.appName('SparkSqlExampleApp1').getOrCreate())"
   ]
  },
  {
   "cell_type": "code",
   "execution_count": 4,
   "id": "18469e62",
   "metadata": {},
   "outputs": [],
   "source": [
    "schema = StructType([StructField('date', StringType(), True),\n",
    "                        StructField('delay', IntegerType(), True),\n",
    "                        StructField('distance', IntegerType(), True),\n",
    "                        StructField('origin', StringType(), True),\n",
    "                        StructField('destination', StringType(), True),\n",
    "                       ])"
   ]
  },
  {
   "cell_type": "code",
   "execution_count": 15,
   "id": "ff18493f",
   "metadata": {},
   "outputs": [],
   "source": [
    "df = (spark.read.csv('departuredelays.csv', schema=schema, header=True))\n",
    "df.createOrReplaceTempView('us_delay_flights_tbl')"
   ]
  },
  {
   "cell_type": "code",
   "execution_count": 16,
   "id": "08265656",
   "metadata": {},
   "outputs": [
    {
     "data": {
      "text/plain": [
       "['date', 'delay', 'distance', 'origin', 'destination']"
      ]
     },
     "execution_count": 16,
     "metadata": {},
     "output_type": "execute_result"
    }
   ],
   "source": [
    "df.columns"
   ]
  },
  {
   "cell_type": "code",
   "execution_count": 17,
   "id": "7b5a8a7b",
   "metadata": {},
   "outputs": [
    {
     "name": "stdout",
     "output_type": "stream",
     "text": [
      "+--------+------+-----------+--------+\n",
      "|distance|origin|destination|    date|\n",
      "+--------+------+-----------+--------+\n",
      "|    4330|   HNL|        JFK|03131530|\n",
      "|    4330|   HNL|        JFK|03071625|\n",
      "|    4330|   HNL|        JFK|03121530|\n",
      "|    4330|   HNL|        JFK|03021625|\n",
      "|    4330|   HNL|        JFK|03061625|\n",
      "|    4330|   HNL|        JFK|03081530|\n",
      "|    4330|   HNL|        JFK|03091530|\n",
      "|    4330|   HNL|        JFK|03011625|\n",
      "|    4330|   HNL|        JFK|03151530|\n",
      "|    4330|   HNL|        JFK|03051625|\n",
      "+--------+------+-----------+--------+\n",
      "only showing top 10 rows\n",
      "\n"
     ]
    }
   ],
   "source": [
    "spark.sql(\"\"\"SELECT distance, origin, destination, date\n",
    "    FROM us_delay_flights_tbl WHERE distance >1000\n",
    "    ORDER BY distance DESC\"\"\").show(10)"
   ]
  },
  {
   "cell_type": "code",
   "execution_count": 18,
   "id": "457c3c56",
   "metadata": {},
   "outputs": [
    {
     "name": "stdout",
     "output_type": "stream",
     "text": [
      "+--------+-----+------+-----------+\n",
      "|date    |delay|origin|destination|\n",
      "+--------+-----+------+-----------+\n",
      "|02190925|1638 |SFO   |ORD        |\n",
      "|01031755|396  |SFO   |ORD        |\n",
      "|01022330|326  |SFO   |ORD        |\n",
      "|01051205|320  |SFO   |ORD        |\n",
      "|01190925|297  |SFO   |ORD        |\n",
      "|02171115|296  |SFO   |ORD        |\n",
      "|01071040|279  |SFO   |ORD        |\n",
      "|01051550|274  |SFO   |ORD        |\n",
      "|03120730|266  |SFO   |ORD        |\n",
      "|01261104|258  |SFO   |ORD        |\n",
      "+--------+-----+------+-----------+\n",
      "only showing top 10 rows\n",
      "\n"
     ]
    }
   ],
   "source": [
    "spark.sql(\"\"\"SELECT date, delay, origin, destination\n",
    "    FROM us_delay_flights_tbl WHERE origin ='SFO' AND destination = 'ORD' AND delay>120 ORDER BY delay DESC\"\"\").show(10,truncate=False)"
   ]
  },
  {
   "cell_type": "code",
   "execution_count": 30,
   "id": "58fc9fc7",
   "metadata": {},
   "outputs": [],
   "source": [
    "new_df=df.withColumn('date(MM/dd)', regexp_replace(col('date'), \"(\\\\d{2})(\\\\d{2})(\\\\d{2})(\\\\d{2})\",\"$1/$2 $3:$4\"))"
   ]
  },
  {
   "cell_type": "code",
   "execution_count": 40,
   "id": "ba0d75dd",
   "metadata": {},
   "outputs": [
    {
     "name": "stdout",
     "output_type": "stream",
     "text": [
      "+-----------+-----+--------+------+-----------+\n",
      "|       date|delay|distance|origin|destination|\n",
      "+-----------+-----+--------+------+-----------+\n",
      "|01/01 12:45|    6|     602|   ABE|        ATL|\n",
      "|01/02 06:00|   -8|     369|   ABE|        DTW|\n",
      "|01/02 12:45|   -2|     602|   ABE|        ATL|\n",
      "|01/02 06:05|   -4|     602|   ABE|        ATL|\n",
      "|01/03 12:45|   -4|     602|   ABE|        ATL|\n",
      "|01/03 06:05|    0|     602|   ABE|        ATL|\n",
      "|01/04 12:43|   10|     602|   ABE|        ATL|\n",
      "|01/04 06:05|   28|     602|   ABE|        ATL|\n",
      "|01/05 12:45|   88|     602|   ABE|        ATL|\n",
      "|01/05 06:05|    9|     602|   ABE|        ATL|\n",
      "+-----------+-----+--------+------+-----------+\n",
      "only showing top 10 rows\n",
      "\n"
     ]
    }
   ],
   "source": [
    "new_df.show(10)\n",
    "new_df.createOrReplaceTempView('us_delay_flights_tbl')"
   ]
  },
  {
   "cell_type": "code",
   "execution_count": 53,
   "id": "b51ebefc",
   "metadata": {},
   "outputs": [
    {
     "name": "stdout",
     "output_type": "stream",
     "text": [
      "+-----------+------------+\n",
      "|       date|Delays_count|\n",
      "+-----------+------------+\n",
      "|03/17 06:00|         368|\n",
      "|03/24 06:00|         368|\n",
      "|03/10 06:00|         367|\n",
      "|03/31 06:00|         367|\n",
      "|03/28 06:00|         366|\n",
      "|03/14 06:00|         365|\n",
      "|03/21 06:00|         365|\n",
      "|03/19 06:00|         363|\n",
      "|03/20 06:00|         363|\n",
      "|03/27 06:00|         363|\n",
      "|03/13 06:00|         362|\n",
      "|03/18 06:00|         362|\n",
      "|03/12 06:00|         362|\n",
      "|03/11 06:00|         361|\n",
      "|03/26 06:00|         361|\n",
      "|03/25 06:00|         361|\n",
      "|03/03 06:00|         333|\n",
      "|03/06 06:00|         326|\n",
      "|02/21 06:00|         325|\n",
      "|02/28 06:00|         324|\n",
      "+-----------+------------+\n",
      "only showing top 20 rows\n",
      "\n"
     ]
    }
   ],
   "source": [
    "(new_df\n",
    "    .select('date','delay','origin','destination')\n",
    "    .groupBy('date')\n",
    "    .agg(count('delay').alias('Delays_count'))\n",
    "    .orderBy('Delays_count', ascending=False)\n",
    "    .show())"
   ]
  },
  {
   "cell_type": "code",
   "execution_count": 43,
   "id": "bcc6d730",
   "metadata": {},
   "outputs": [],
   "source": [
    "delay_ts_df = (new_df.withColumn('date_ts',to_timestamp(col('date'),\"MM/dd hh:mm\")).drop(\"date\"))"
   ]
  },
  {
   "cell_type": "code",
   "execution_count": 54,
   "id": "fdcb9d65",
   "metadata": {},
   "outputs": [
    {
     "name": "stdout",
     "output_type": "stream",
     "text": [
      "+-----------+-----+------+-----------+\n",
      "|       date|delay|origin|destination|\n",
      "+-----------+-----+------+-----------+\n",
      "|02/19 09:25| 1638|   SFO|        ORD|\n",
      "|01/03 17:55|  396|   SFO|        ORD|\n",
      "|01/02 23:30|  326|   SFO|        ORD|\n",
      "|01/05 12:05|  320|   SFO|        ORD|\n",
      "|01/19 09:25|  297|   SFO|        ORD|\n",
      "|02/17 11:15|  296|   SFO|        ORD|\n",
      "|01/07 10:40|  279|   SFO|        ORD|\n",
      "|01/05 15:50|  274|   SFO|        ORD|\n",
      "|03/12 07:30|  266|   SFO|        ORD|\n",
      "|01/26 11:04|  258|   SFO|        ORD|\n",
      "|01/16 12:10|  225|   SFO|        ORD|\n",
      "|02/09 18:00|  223|   SFO|        ORD|\n",
      "|01/22 10:40|  215|   SFO|        ORD|\n",
      "|03/12 11:55|  203|   SFO|        ORD|\n",
      "|02/11 12:56|  197|   SFO|        ORD|\n",
      "|03/31 14:05|  196|   SFO|        ORD|\n",
      "|01/03 19:20|  193|   SFO|        ORD|\n",
      "|01/02 14:10|  190|   SFO|        ORD|\n",
      "|03/17 12:15|  189|   SFO|        ORD|\n",
      "|01/10 14:10|  184|   SFO|        ORD|\n",
      "+-----------+-----+------+-----------+\n",
      "only showing top 20 rows\n",
      "\n"
     ]
    }
   ],
   "source": [
    "spark.sql(\"\"\"SELECT date, delay, origin, destination\n",
    "    FROM us_delay_flights_tbl WHERE origin ='SFO' AND destination = 'ORD' AND delay>120  ORDER BY delay DESC\"\"\").show(20)"
   ]
  },
  {
   "cell_type": "code",
   "execution_count": 73,
   "id": "8eecbaeb",
   "metadata": {},
   "outputs": [
    {
     "name": "stdout",
     "output_type": "stream",
     "text": [
      "+-----+------+-----------+-------------+\n",
      "|delay|origin|destination|Flight_Delays|\n",
      "+-----+------+-----------+-------------+\n",
      "|  333|   ABE|        ATL|  Long Delays|\n",
      "|  305|   ABE|        ATL|  Long Delays|\n",
      "|  275|   ABE|        ATL|  Long Delays|\n",
      "|  257|   ABE|        ATL|  Long Delays|\n",
      "|  247|   ABE|        ATL|  Long Delays|\n",
      "|  247|   ABE|        DTW|  Long Delays|\n",
      "|  219|   ABE|        ORD|  Long Delays|\n",
      "|  211|   ABE|        ATL|  Long Delays|\n",
      "|  197|   ABE|        DTW|  Long Delays|\n",
      "|  192|   ABE|        ORD|  Long Delays|\n",
      "|  180|   ABE|        ATL|  Long Delays|\n",
      "|  173|   ABE|        DTW|  Long Delays|\n",
      "|  165|   ABE|        ATL|  Long Delays|\n",
      "|  159|   ABE|        ATL|  Long Delays|\n",
      "|  159|   ABE|        ORD|  Long Delays|\n",
      "|  158|   ABE|        ATL|  Long Delays|\n",
      "|  151|   ABE|        DTW|  Long Delays|\n",
      "|  127|   ABE|        ATL|  Long Delays|\n",
      "|  121|   ABE|        DTW|  Long Delays|\n",
      "|  118|   ABE|        DTW| Short Delays|\n",
      "|  116|   ABE|        ORD| Short Delays|\n",
      "|  111|   ABE|        ATL| Short Delays|\n",
      "|  103|   ABE|        ATL| Short Delays|\n",
      "|  101|   ABE|        ATL| Short Delays|\n",
      "|   92|   ABE|        ORD| Short Delays|\n",
      "+-----+------+-----------+-------------+\n",
      "only showing top 25 rows\n",
      "\n"
     ]
    }
   ],
   "source": [
    "spark.sql(\"\"\"SELECT delay, origin, destination,\n",
    "    CASE\n",
    "    WHEN delay > 360 THEN 'Very Long Delays'\n",
    "    WHEN delay > 120 AND delay < 360 THEN 'Long Delays'\n",
    "    WHEN delay > 60 AND delay < 120 THEN 'Short Delays'\n",
    "    WHEN delay > 0 and delay < 60 THEN 'Tolerable Delays'\n",
    "    WHEN delay = 0 THEN 'No Delays'\n",
    "    ELSE 'Early'\n",
    "    END AS Flight_Delays\n",
    "    FROM us_delay_flights_tbl\n",
    "    ORDER BY origin, delay DESC\"\"\").show(25)"
   ]
  },
  {
   "cell_type": "code",
   "execution_count": 56,
   "id": "2b611e0a",
   "metadata": {},
   "outputs": [
    {
     "data": {
      "text/plain": [
       "DataFrame[]"
      ]
     },
     "execution_count": 56,
     "metadata": {},
     "output_type": "execute_result"
    }
   ],
   "source": [
    "spark.sql(\"CREATE DATABASE learn_spark_db\")"
   ]
  },
  {
   "cell_type": "code",
   "execution_count": 57,
   "id": "e8d30abf",
   "metadata": {},
   "outputs": [
    {
     "data": {
      "text/plain": [
       "DataFrame[]"
      ]
     },
     "execution_count": 57,
     "metadata": {},
     "output_type": "execute_result"
    }
   ],
   "source": [
    "spark.sql(\"USE learn_spark_db\")"
   ]
  },
  {
   "cell_type": "code",
   "execution_count": 58,
   "id": "fb4355d3",
   "metadata": {},
   "outputs": [],
   "source": [
    "new_df.write.saveAsTable(\"managed_us_delay_flights_tbl\")"
   ]
  },
  {
   "cell_type": "code",
   "execution_count": 59,
   "id": "2903f7bf",
   "metadata": {},
   "outputs": [],
   "source": [
    "us_flights_df = spark.sql(\"SELECT * FROM us_delay_flights_tbl\")\n",
    "us_flights_df2 = spark.table(\"us_delay_flights_tbl\")"
   ]
  },
  {
   "cell_type": "code",
   "execution_count": 60,
   "id": "73e3b28e",
   "metadata": {},
   "outputs": [
    {
     "name": "stdout",
     "output_type": "stream",
     "text": [
      "+-----------+-----+--------+------+-----------+\n",
      "|       date|delay|distance|origin|destination|\n",
      "+-----------+-----+--------+------+-----------+\n",
      "|01/01 12:45|    6|     602|   ABE|        ATL|\n",
      "|01/02 06:00|   -8|     369|   ABE|        DTW|\n",
      "|01/02 12:45|   -2|     602|   ABE|        ATL|\n",
      "|01/02 06:05|   -4|     602|   ABE|        ATL|\n",
      "|01/03 12:45|   -4|     602|   ABE|        ATL|\n",
      "|01/03 06:05|    0|     602|   ABE|        ATL|\n",
      "|01/04 12:43|   10|     602|   ABE|        ATL|\n",
      "|01/04 06:05|   28|     602|   ABE|        ATL|\n",
      "|01/05 12:45|   88|     602|   ABE|        ATL|\n",
      "|01/05 06:05|    9|     602|   ABE|        ATL|\n",
      "|01/06 12:15|   -6|     602|   ABE|        ATL|\n",
      "|01/06 17:25|   69|     602|   ABE|        ATL|\n",
      "|01/06 12:30|    0|     369|   ABE|        DTW|\n",
      "|01/06 06:25|   -3|     602|   ABE|        ATL|\n",
      "|01/07 06:00|    0|     369|   ABE|        DTW|\n",
      "|01/07 17:25|    0|     602|   ABE|        ATL|\n",
      "|01/07 12:30|    0|     369|   ABE|        DTW|\n",
      "|01/07 06:25|    0|     602|   ABE|        ATL|\n",
      "|01/07 12:19|    0|     569|   ABE|        ORD|\n",
      "|01/08 06:00|    0|     369|   ABE|        DTW|\n",
      "+-----------+-----+--------+------+-----------+\n",
      "only showing top 20 rows\n",
      "\n"
     ]
    }
   ],
   "source": [
    "us_flights_df.show()"
   ]
  },
  {
   "cell_type": "code",
   "execution_count": null,
   "id": "3159d555",
   "metadata": {},
   "outputs": [],
   "source": []
  }
 ],
 "metadata": {
  "kernelspec": {
   "display_name": "Python 3",
   "language": "python",
   "name": "python3"
  },
  "language_info": {
   "codemirror_mode": {
    "name": "ipython",
    "version": 3
   },
   "file_extension": ".py",
   "mimetype": "text/x-python",
   "name": "python",
   "nbconvert_exporter": "python",
   "pygments_lexer": "ipython3",
   "version": "3.8.8"
  }
 },
 "nbformat": 4,
 "nbformat_minor": 5
}
