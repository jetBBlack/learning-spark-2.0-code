{
 "cells": [
  {
   "cell_type": "code",
   "execution_count": 1,
   "id": "563247e7",
   "metadata": {},
   "outputs": [],
   "source": [
    "import findspark\n",
    "findspark.init()"
   ]
  },
  {
   "cell_type": "code",
   "execution_count": 2,
   "id": "5c3be2b7",
   "metadata": {},
   "outputs": [],
   "source": [
    "from pyspark.sql import SparkSession\n",
    "from pyspark.sql.types import *\n",
    "from pyspark.sql.functions import *"
   ]
  },
  {
   "cell_type": "code",
   "execution_count": 3,
   "id": "08ecd101",
   "metadata": {},
   "outputs": [],
   "source": [
    "spark = SparkSession.builder.appName('CommonDFandSQLOperation').getOrCreate()"
   ]
  },
  {
   "cell_type": "code",
   "execution_count": 4,
   "id": "181e2732",
   "metadata": {},
   "outputs": [
    {
     "name": "stdout",
     "output_type": "stream",
     "text": [
      "+---------------------------------------------------------+----------------------------------------------------------------+\n",
      "|key                                                      |value                                                           |\n",
      "+---------------------------------------------------------+----------------------------------------------------------------+\n",
      "|spark.sql.adaptive.advisoryPartitionSizeInBytes          |<value of spark.sql.adaptive.shuffle.targetPostShuffleInputSize>|\n",
      "|spark.sql.adaptive.coalescePartitions.enabled            |true                                                            |\n",
      "|spark.sql.adaptive.coalescePartitions.initialPartitionNum|<undefined>                                                     |\n",
      "|spark.sql.adaptive.coalescePartitions.minPartitionNum    |<undefined>                                                     |\n",
      "|spark.sql.adaptive.enabled                               |false                                                           |\n",
      "+---------------------------------------------------------+----------------------------------------------------------------+\n",
      "only showing top 5 rows\n",
      "\n"
     ]
    }
   ],
   "source": [
    "spark.sql(\"SET -v\").select(\"key\", \"value\").show(n=5, truncate=False)"
   ]
  },
  {
   "cell_type": "code",
   "execution_count": 5,
   "id": "8843f5e9",
   "metadata": {},
   "outputs": [],
   "source": [
    "airportsna = (spark.read.format('csv').options(header='true', inferSchema = 'true', sep ='\\t').load('airport-codes-na.txt'))"
   ]
  },
  {
   "cell_type": "code",
   "execution_count": 6,
   "id": "ca6f7a7a",
   "metadata": {},
   "outputs": [],
   "source": [
    "airportsna.createOrReplaceTempView('airports_na')"
   ]
  },
  {
   "cell_type": "code",
   "execution_count": 7,
   "id": "e8568117",
   "metadata": {},
   "outputs": [
    {
     "name": "stdout",
     "output_type": "stream",
     "text": [
      "+-----------+-----+-------+----+\n",
      "|       City|State|Country|IATA|\n",
      "+-----------+-----+-------+----+\n",
      "| Abbotsford|   BC| Canada| YXX|\n",
      "|   Aberdeen|   SD|    USA| ABR|\n",
      "|    Abilene|   TX|    USA| ABI|\n",
      "|      Akron|   OH|    USA| CAK|\n",
      "|    Alamosa|   CO|    USA| ALS|\n",
      "|     Albany|   GA|    USA| ABY|\n",
      "|     Albany|   NY|    USA| ALB|\n",
      "|Albuquerque|   NM|    USA| ABQ|\n",
      "| Alexandria|   LA|    USA| AEX|\n",
      "|  Allentown|   PA|    USA| ABE|\n",
      "+-----------+-----+-------+----+\n",
      "\n"
     ]
    }
   ],
   "source": [
    "spark.sql('SELECT * FROM airports_na LIMIT 10').show()"
   ]
  },
  {
   "cell_type": "code",
   "execution_count": 7,
   "id": "8042e9cc",
   "metadata": {},
   "outputs": [],
   "source": [
    "departureDelays = (spark.read.format('csv').options(header = 'true').load('departuredelays.csv'))"
   ]
  },
  {
   "cell_type": "code",
   "execution_count": 8,
   "id": "8d7f7552",
   "metadata": {},
   "outputs": [],
   "source": [
    "departureDelays = (departureDelays\n",
    "                      .withColumn('delay',expr(\"CAST(delay as INT) as delay\"))\n",
    "                      .withColumn('distance', expr(\"CAST(distance as INT) as distance\")))"
   ]
  },
  {
   "cell_type": "code",
   "execution_count": 9,
   "id": "ed63686c",
   "metadata": {},
   "outputs": [],
   "source": [
    "departureDelays.createOrReplaceTempView(\"departureDelays\")"
   ]
  },
  {
   "cell_type": "code",
   "execution_count": 10,
   "id": "766aa066",
   "metadata": {},
   "outputs": [],
   "source": [
    "foo = (departureDelays.filter(expr(\"\"\"origin =='SEA' and destination =='SFO' and date like'01010%' and delay>0\"\"\")))"
   ]
  },
  {
   "cell_type": "code",
   "execution_count": 11,
   "id": "82889f0a",
   "metadata": {},
   "outputs": [],
   "source": [
    "foo.createOrReplaceTempView('foo')"
   ]
  },
  {
   "cell_type": "code",
   "execution_count": 13,
   "id": "4ccb450a",
   "metadata": {},
   "outputs": [
    {
     "name": "stdout",
     "output_type": "stream",
     "text": [
      "+--------+-----+--------+------+-----------+\n",
      "|    date|delay|distance|origin|destination|\n",
      "+--------+-----+--------+------+-----------+\n",
      "|01010710|   31|     590|   SEA|        SFO|\n",
      "|01010955|  104|     590|   SEA|        SFO|\n",
      "|01010730|    5|     590|   SEA|        SFO|\n",
      "+--------+-----+--------+------+-----------+\n",
      "\n"
     ]
    }
   ],
   "source": [
    "spark.sql('SELECT * FROM foo LIMIT 10').show()"
   ]
  },
  {
   "cell_type": "code",
   "execution_count": 14,
   "id": "984c0393",
   "metadata": {},
   "outputs": [],
   "source": [
    "#UNION\n",
    "bar = departureDelays.union(foo)\n",
    "bar.createOrReplaceTempView(\"bar\")"
   ]
  },
  {
   "cell_type": "code",
   "execution_count": 15,
   "id": "604f9a3b",
   "metadata": {},
   "outputs": [
    {
     "name": "stdout",
     "output_type": "stream",
     "text": [
      "+--------+-----+--------+------+-----------+\n",
      "|    date|delay|distance|origin|destination|\n",
      "+--------+-----+--------+------+-----------+\n",
      "|01010710|   31|     590|   SEA|        SFO|\n",
      "|01010955|  104|     590|   SEA|        SFO|\n",
      "|01010730|    5|     590|   SEA|        SFO|\n",
      "|01010710|   31|     590|   SEA|        SFO|\n",
      "|01010955|  104|     590|   SEA|        SFO|\n",
      "|01010730|    5|     590|   SEA|        SFO|\n",
      "+--------+-----+--------+------+-----------+\n",
      "\n"
     ]
    }
   ],
   "source": [
    "spark.sql(\"\"\"SELECT * FROM bar\n",
    "            WHERE origin ='SEA' AND destination='SFO' AND date like '01010%' and delay>0\"\"\").show()"
   ]
  },
  {
   "cell_type": "code",
   "execution_count": 16,
   "id": "6e581aea",
   "metadata": {},
   "outputs": [
    {
     "name": "stdout",
     "output_type": "stream",
     "text": [
      "+---------+-----+------+--------+-----+--------+-----------+\n",
      "|     City|State|origin|    date|delay|distance|destination|\n",
      "+---------+-----+------+--------+-----+--------+-----------+\n",
      "|Allentown|   PA|   ABE|01011245|    6|     602|        ATL|\n",
      "|Allentown|   PA|   ABE|01020600|   -8|     369|        DTW|\n",
      "|Allentown|   PA|   ABE|01021245|   -2|     602|        ATL|\n",
      "|Allentown|   PA|   ABE|01020605|   -4|     602|        ATL|\n",
      "|Allentown|   PA|   ABE|01031245|   -4|     602|        ATL|\n",
      "|Allentown|   PA|   ABE|01030605|    0|     602|        ATL|\n",
      "|Allentown|   PA|   ABE|01041243|   10|     602|        ATL|\n",
      "|Allentown|   PA|   ABE|01040605|   28|     602|        ATL|\n",
      "|Allentown|   PA|   ABE|01051245|   88|     602|        ATL|\n",
      "|Allentown|   PA|   ABE|01050605|    9|     602|        ATL|\n",
      "+---------+-----+------+--------+-----+--------+-----------+\n",
      "only showing top 10 rows\n",
      "\n"
     ]
    }
   ],
   "source": [
    "#Join departure delay with airport info\n",
    "departureDelays.join(airportsna, airportsna.IATA == departureDelays.origin).select('City','State',\"origin\", \"date\", \"delay\", \"distance\", \"destination\").show(10)"
   ]
  },
  {
   "cell_type": "code",
   "execution_count": 17,
   "id": "7b994f45",
   "metadata": {},
   "outputs": [
    {
     "name": "stdout",
     "output_type": "stream",
     "text": [
      "+-------+-----+------+--------+-----+--------+-----------+\n",
      "|   City|State|origin|    date|delay|distance|destination|\n",
      "+-------+-----+------+--------+-----+--------+-----------+\n",
      "|Seattle|   WA|   SEA|01010710|   31|     590|        SFO|\n",
      "|Seattle|   WA|   SEA|01010955|  104|     590|        SFO|\n",
      "|Seattle|   WA|   SEA|01010730|    5|     590|        SFO|\n",
      "+-------+-----+------+--------+-----+--------+-----------+\n",
      "\n"
     ]
    }
   ],
   "source": [
    "#Join foo with airports info\n",
    "(foo.join(airportsna, airportsna.IATA == foo.origin)\n",
    "     .select('City','State',\"origin\", \"date\", \"delay\", \"distance\", \"destination\").show(10))"
   ]
  },
  {
   "cell_type": "code",
   "execution_count": 18,
   "id": "6f2ee61d",
   "metadata": {},
   "outputs": [],
   "source": [
    "departureDelaysWindow = spark.sql(\"\"\"SELECT origin, destination, SUM(delay) AS TotalDelays\n",
    "                FROM departureDelays \n",
    "                WHERE origin IN ('SEA', 'SFO', 'JFK')\n",
    "                AND destination IN ('SEA', 'SFO', 'JFK', 'DEN', 'ORD', 'LAX', 'ATL')\n",
    "                GROUP BY origin, destination\"\"\")\n",
    "departureDelaysWindow.createOrReplaceTempView('departureDelaysWindow')"
   ]
  },
  {
   "cell_type": "code",
   "execution_count": 19,
   "id": "33e3a33b",
   "metadata": {},
   "outputs": [
    {
     "name": "stdout",
     "output_type": "stream",
     "text": [
      "+------+-----------+-----------+\n",
      "|origin|destination|TotalDelays|\n",
      "+------+-----------+-----------+\n",
      "|   JFK|        ORD|       5608|\n",
      "|   SEA|        LAX|       9359|\n",
      "|   JFK|        SFO|      35619|\n",
      "|   SFO|        ORD|      27412|\n",
      "|   JFK|        DEN|       4315|\n",
      "|   SFO|        DEN|      18688|\n",
      "|   SFO|        SEA|      17080|\n",
      "|   SEA|        SFO|      22293|\n",
      "|   JFK|        ATL|      12141|\n",
      "|   SFO|        ATL|       5091|\n",
      "|   SEA|        DEN|      13645|\n",
      "|   SEA|        ATL|       4535|\n",
      "|   SEA|        ORD|      10041|\n",
      "|   JFK|        SEA|       7856|\n",
      "|   JFK|        LAX|      35755|\n",
      "|   SFO|        JFK|      24100|\n",
      "|   SFO|        LAX|      40798|\n",
      "|   SEA|        JFK|       4667|\n",
      "+------+-----------+-----------+\n",
      "\n"
     ]
    }
   ],
   "source": [
    "spark.sql(\"SELECT * FROM departureDelaysWindow\").show()"
   ]
  },
  {
   "cell_type": "code",
   "execution_count": 20,
   "id": "5319fd96",
   "metadata": {},
   "outputs": [
    {
     "name": "stdout",
     "output_type": "stream",
     "text": [
      "+------+-----------+-----------+----+\n",
      "|origin|destination|TotalDelays|rank|\n",
      "+------+-----------+-----------+----+\n",
      "|   SEA|        SFO|      22293|   1|\n",
      "|   SEA|        DEN|      13645|   2|\n",
      "|   SEA|        ORD|      10041|   3|\n",
      "|   SFO|        LAX|      40798|   1|\n",
      "|   SFO|        ORD|      27412|   2|\n",
      "|   SFO|        JFK|      24100|   3|\n",
      "|   JFK|        LAX|      35755|   1|\n",
      "|   JFK|        SFO|      35619|   2|\n",
      "|   JFK|        ATL|      12141|   3|\n",
      "+------+-----------+-----------+----+\n",
      "\n"
     ]
    }
   ],
   "source": [
    "#With each of these origin airports you wanted to find the three destination that experienced the most delays\n",
    "spark.sql(\"\"\"SELECT origin, destination, TotalDelays, rank\n",
    "            FROM (\n",
    "                SELECT origin, destination, TotalDelays, dense_rank()\n",
    "                    OVER (PARTITION BY origin ORDER BY TotalDelays DESC) as rank FROM departureDelaysWindow) t\n",
    "                WHERE rank<=3\n",
    "                    \"\"\").show()"
   ]
  },
  {
   "cell_type": "code",
   "execution_count": 52,
   "id": "e30d02f5",
   "metadata": {},
   "outputs": [
    {
     "name": "stdout",
     "output_type": "stream",
     "text": [
      "+--------+-----+--------+------+-----------+-------+\n",
      "|    date|delay|distance|origin|destination| status|\n",
      "+--------+-----+--------+------+-----------+-------+\n",
      "|01010710|   31|     590|   SEA|        SFO|DELAYED|\n",
      "|01010955|  104|     590|   SEA|        SFO|DELAYED|\n",
      "|01010730|    5|     590|   SEA|        SFO|On-time|\n",
      "+--------+-----+--------+------+-----------+-------+\n",
      "\n"
     ]
    }
   ],
   "source": [
    "#add new column\n",
    "foo1 = (foo.withColumn(\"status\", expr(\"CASE WHEN delay<=10 THEN 'On-time' ELSE 'DELAYED' END\")))\n",
    "foo1.show()"
   ]
  },
  {
   "cell_type": "code",
   "execution_count": 53,
   "id": "07309dea",
   "metadata": {},
   "outputs": [
    {
     "name": "stdout",
     "output_type": "stream",
     "text": [
      "+--------+--------+------+-----------+-------+\n",
      "|    date|distance|origin|destination| status|\n",
      "+--------+--------+------+-----------+-------+\n",
      "|01010710|     590|   SEA|        SFO|DELAYED|\n",
      "|01010955|     590|   SEA|        SFO|DELAYED|\n",
      "|01010730|     590|   SEA|        SFO|On-time|\n",
      "+--------+--------+------+-----------+-------+\n",
      "\n"
     ]
    }
   ],
   "source": [
    "foo2 = foo1.drop('delay')\n",
    "foo2.show()"
   ]
  },
  {
   "cell_type": "code",
   "execution_count": 54,
   "id": "47e76dec",
   "metadata": {},
   "outputs": [
    {
     "name": "stdout",
     "output_type": "stream",
     "text": [
      "+--------+--------+------+-----------+------------+\n",
      "|    date|distance|origin|destination|delay-status|\n",
      "+--------+--------+------+-----------+------------+\n",
      "|01010710|     590|   SEA|        SFO|     DELAYED|\n",
      "|01010955|     590|   SEA|        SFO|     DELAYED|\n",
      "|01010730|     590|   SEA|        SFO|     On-time|\n",
      "+--------+--------+------+-----------+------------+\n",
      "\n"
     ]
    }
   ],
   "source": [
    "foo3 = foo2.withColumnRenamed('status','delay-status')\n",
    "foo3.show()"
   ]
  },
  {
   "cell_type": "code",
   "execution_count": 58,
   "id": "0ffaa42d",
   "metadata": {},
   "outputs": [
    {
     "name": "stdout",
     "output_type": "stream",
     "text": [
      "+-----------+-----+-----+\n",
      "|destination|month|delay|\n",
      "+-----------+-----+-----+\n",
      "|        ORD|    1|   92|\n",
      "|        JFK|    1|   -7|\n",
      "|        DFW|    1|   -5|\n",
      "|        MIA|    1|   -3|\n",
      "|        DFW|    1|   -3|\n",
      "|        DFW|    1|    1|\n",
      "|        ORD|    1|  -10|\n",
      "|        DFW|    1|   -6|\n",
      "|        DFW|    1|   -2|\n",
      "|        ORD|    1|   -3|\n",
      "|        ORD|    1|    0|\n",
      "|        DFW|    1|   23|\n",
      "|        DFW|    1|   36|\n",
      "|        ORD|    1|  298|\n",
      "|        JFK|    1|    4|\n",
      "|        DFW|    1|    0|\n",
      "|        MIA|    1|    2|\n",
      "|        DFW|    1|    0|\n",
      "|        DFW|    1|    0|\n",
      "|        ORD|    1|   83|\n",
      "+-----------+-----+-----+\n",
      "only showing top 20 rows\n",
      "\n"
     ]
    }
   ],
   "source": [
    "spark.sql(\"\"\"SELECT destination, CAST(SUBSTRING(date, 0,2) AS int) AS month, delay FROM departureDelays WHERE origin='SEA'\"\"\").show()"
   ]
  },
  {
   "cell_type": "code",
   "execution_count": 30,
   "id": "81178f03",
   "metadata": {},
   "outputs": [
    {
     "name": "stdout",
     "output_type": "stream",
     "text": [
      "+-----------+------------+------------+------------+------------+\n",
      "|destination|Feb_AvgDelay|Feb_MaxDelay|Mar_AvgDelay|Mar_MaxDelay|\n",
      "+-----------+------------+------------+------------+------------+\n",
      "|        ABQ|       11.42|          69|       11.47|          74|\n",
      "|        ANC|        7.90|         141|        5.10|         187|\n",
      "|        ATL|        7.73|         145|        6.53|         109|\n",
      "|        AUS|       -0.21|          18|        4.03|          61|\n",
      "|        BOS|       14.58|         152|        7.78|         119|\n",
      "|        BUR|       -1.89|          78|        2.01|         108|\n",
      "|        CLE|        null|        null|        0.00|           0|\n",
      "|        CLT|       12.96|         228|        5.16|         110|\n",
      "|        COS|       12.18|         203|        9.74|         205|\n",
      "|        CVG|        null|        null|        0.00|           0|\n",
      "|        DCA|        0.07|          34|        5.73|         199|\n",
      "|        DEN|       12.95|         625|        7.48|         231|\n",
      "|        DFW|       12.57|         356|        6.71|         277|\n",
      "|        DTW|        3.47|          77|        2.47|          72|\n",
      "|        EWR|        5.20|         212|       10.59|         181|\n",
      "|        FAI|        4.21|          60|        5.32|          98|\n",
      "|        FAT|        5.22|         232|        1.67|          92|\n",
      "|        FLL|        3.50|          40|        3.06|          52|\n",
      "|        GEG|        2.87|          60|        4.49|          89|\n",
      "|        HDN|       -6.50|           0|       -3.44|          15|\n",
      "+-----------+------------+------------+------------+------------+\n",
      "only showing top 20 rows\n",
      "\n"
     ]
    }
   ],
   "source": [
    "#Pivot table\n",
    "spark.sql(\"\"\"SELECT destination,Feb_AvgDelay, Feb_MaxDelay,IFNULL(Mar_AvgDelay,0) AS Mar_AvgDelay, IFNULL(Mar_MaxDelay,0) AS Mar_MaxDelay  \n",
    "                FROM (SELECT destination, CAST(SUBSTRING(date,0,2) AS INT) AS month, delay\n",
    "                FROM departureDelays WHERE origin ='SEA')\n",
    "                PIVOT(\n",
    "                    CAST(AVG(delay) AS DECIMAL(4,2)) AS AvgDelay, MAX(delay) AS MaxDelay\n",
    "                    FOR month in (2 Feb, 3 Mar))\n",
    "                ORDER BY destination\"\"\").show()"
   ]
  },
  {
   "cell_type": "code",
   "execution_count": null,
   "id": "9359b18e",
   "metadata": {},
   "outputs": [],
   "source": []
  }
 ],
 "metadata": {
  "kernelspec": {
   "display_name": "Python 3",
   "language": "python",
   "name": "python3"
  },
  "language_info": {
   "codemirror_mode": {
    "name": "ipython",
    "version": 3
   },
   "file_extension": ".py",
   "mimetype": "text/x-python",
   "name": "python",
   "nbconvert_exporter": "python",
   "pygments_lexer": "ipython3",
   "version": "3.8.8"
  }
 },
 "nbformat": 4,
 "nbformat_minor": 5
}
